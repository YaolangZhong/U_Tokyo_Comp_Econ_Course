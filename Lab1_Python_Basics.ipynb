{
  "cells": [
    {
      "cell_type": "markdown",
      "id": "3d4178ef",
      "metadata": {},
      "source": [
        "# Python Basics Intro \n",
        "\n",
        "This notebook mirrors your slide content but lets you **run the exact code** as you teach:\n",
        "\n",
        "- Variables and basic data types\n",
        "\n",
        "- Collections (list / tuple / set / dict)\n",
        "\n",
        "- Arithmetic and logical operators\n",
        "\n",
        "- Control structures (if/elif/else, for, while)\n",
        "\n",
        "- Functions\n",
        "\n",
        "- Classes and Objects (OOP)\n",
        "\n",
        "- Modules and Packages\n",
        "\n",
        "- Tensors vs Arrays (NumPy, optional PyTorch)\n",
        "\n",
        "- Efficient evaluation of expressions (Horner's method)\n",
        "\n",
        "- Direct vs. Iterative methods on the same linear system\n",
        "\n",
        "> Tip: execute each cell in order. Sections are self-contained; you can also jump around as needed.\n"
      ]
    },
    {
      "cell_type": "markdown",
      "metadata": {},
      "source": [
        "## Environment check\n",
        "Quick info on your Python environment.\n"
      ]
    },
    {
      "cell_type": "code",
      "execution_count": 1,
      "metadata": {},
      "outputs": [
        {
          "name": "stdout",
          "output_type": "stream",
          "text": [
            "Python: 3.12.2\n",
            "Executable: /opt/miniconda3/bin/python\n",
            "Platform: macOS-15.6-arm64-arm-64bit\n"
          ]
        }
      ],
      "source": [
        "import sys, platform\n",
        "print(\"Python:\", sys.version.split()[0])\n",
        "print(\"Executable:\", sys.executable)\n",
        "print(\"Platform:\", platform.platform())\n"
      ]
    },
    {
      "cell_type": "markdown",
      "metadata": {},
      "source": [
        "## 1. Variables and Basic Data Types\n",
        "\n",
        "### Integers, floats, strings, booleans\n"
      ]
    },
    {
      "cell_type": "code",
      "execution_count": 2,
      "metadata": {},
      "outputs": [
        {
          "name": "stdout",
          "output_type": "stream",
          "text": [
            "Integers: 42 -7 <class 'int'> <class 'int'>\n",
            "Floats: 3.141592653589793 0.001 <class 'float'>\n",
            "String: Hello, World! <class 'str'>\n",
            "Booleans: True False <class 'bool'>\n",
            "a+b, a-b, a*b, a/b: 21 13 68 4.25\n",
            "a//b (floor div), a%b (mod): 4 1\n",
            "a**b (exponent): 83521\n"
          ]
        }
      ],
      "source": [
        "# Integers\n",
        "x = 42\n",
        "y = -7\n",
        "print(\"Integers:\", x, y, type(x), type(y))\n",
        "\n",
        "# Floats\n",
        "pi = 3.141592653589793\n",
        "r = 1.0e-3\n",
        "print(\"Floats:\", pi, r, type(pi))\n",
        "\n",
        "# Strings\n",
        "message = \"Hello, World!\"\n",
        "print(\"String:\", message, type(message))\n",
        "\n",
        "# Booleans\n",
        "is_true = True\n",
        "is_false = False\n",
        "print(\"Booleans:\", is_true, is_false, type(is_true))\n",
        "\n",
        "# Basic arithmetic\n",
        "a, b = 17, 4\n",
        "print(\"a+b, a-b, a*b, a/b:\", a+b, a-b, a*b, a/b)\n",
        "print(\"a//b (floor div), a%b (mod):\", a//b, a%b)\n",
        "print(\"a**b (exponent):\", a**b)\n"
      ]
    },
    {
      "cell_type": "code",
      "execution_count": 5,
      "id": "af30976b",
      "metadata": {},
      "outputs": [
        {
          "name": "stdout",
          "output_type": "stream",
          "text": [
            "Hello, World! Hello, World!\n"
          ]
        }
      ],
      "source": [
        "message = \"Hello, World!\"\n",
        "message2 = \"Hello, World!\"\n",
        "\n",
        "message3 = message + \" \" + message2\n",
        "print(message3)\n",
        "            "
      ]
    },
    {
      "cell_type": "markdown",
      "metadata": {},
      "source": [
        "### Float precision: tiny differences near 1\n",
        "Floating point is finite precision. Rounding can make `1 + eps == 1` for very small `eps`.\n"
      ]
    },
    {
      "cell_type": "code",
      "execution_count": 6,
      "metadata": {},
      "outputs": [
        {
          "name": "stdout",
          "output_type": "stream",
          "text": [
            "1 + 1e-16 == 1 ? True\n",
            "1 + 1e-12 == 1 ? False\n"
          ]
        }
      ],
      "source": [
        "eps = 1e-16\n",
        "print(\"1 + 1e-16 == 1 ?\", (1.0 + eps) == 1.0)\n",
        "eps = 1e-12\n",
        "print(\"1 + 1e-12 == 1 ?\", (1.0 + eps) == 1.0)\n"
      ]
    },
    {
      "cell_type": "markdown",
      "metadata": {},
      "source": [
        "## 2. Collections: list / tuple / set / dict\n"
      ]
    },
    {
      "cell_type": "markdown",
      "metadata": {},
      "source": [
        "### Lists: ordered, mutable\n"
      ]
    },
    {
      "cell_type": "code",
      "execution_count": 7,
      "metadata": {},
      "outputs": [
        {
          "name": "stdout",
          "output_type": "stream",
          "text": [
            "List: [1, 2, 3, 'hello', True]\n",
            "Index 0: 1\n",
            "Slice [1:4]: [2, 3, 'hello']\n",
            "Modified list: [1, 2, 10, 'hello', True]\n",
            "Appended/extended: [1, 2, 10, 'hello', True, 'new', 7, 8]\n"
          ]
        }
      ],
      "source": [
        "my_list = [1, 2, 3, \"hello\", True]\n",
        "print(\"List:\", my_list)\n",
        "print(\"Index 0:\", my_list[0])\n",
        "print(\"Slice [1:4]:\", my_list[1:4])\n",
        "\n",
        "# Modify\n",
        "my_list[2] = 10\n",
        "print(\"Modified list:\", my_list)\n",
        "\n",
        "# Append & extend\n",
        "my_list.append(\"new\")\n",
        "my_list.extend([7, 8])\n",
        "print(\"Appended/extended:\", my_list)\n"
      ]
    },
    {
      "cell_type": "markdown",
      "metadata": {},
      "source": [
        "### Tuples: ordered, immutable\n"
      ]
    },
    {
      "cell_type": "code",
      "execution_count": 9,
      "metadata": {},
      "outputs": [
        {
          "name": "stdout",
          "output_type": "stream",
          "text": [
            "Tuple: (1, 2, 3, 'hello', True)\n",
            "Index 0: 1\n",
            "Slice [1:4]: (2, 3, 'hello')\n",
            "As expected, tuples are immutable: 'tuple' object does not support item assignment\n"
          ]
        }
      ],
      "source": [
        "my_tuple = (1, 2, 3, \"hello\", True)\n",
        "print(\"Tuple:\", my_tuple)\n",
        "print(\"Index 0:\", my_tuple[0])\n",
        "print(\"Slice [1:4]:\", my_tuple[1:4])\n",
        "\n",
        "# Immutability demonstration\n",
        "try:\n",
        "    my_tuple[2] = 99\n",
        "except TypeError as e:\n",
        "    print(\"As expected, tuples are immutable:\", e)\n"
      ]
    },
    {
      "cell_type": "markdown",
      "metadata": {},
      "source": [
        "### Sets: unordered, unique elements\n"
      ]
    },
    {
      "cell_type": "code",
      "execution_count": 10,
      "metadata": {},
      "outputs": [
        {
          "name": "stdout",
          "output_type": "stream",
          "text": [
            "Set (unique): {1, 2, 3, 4}\n",
            "Union: {1, 2, 3, 4, 5}\n",
            "Intersection: {3, 4}\n",
            "Difference A-B: {1, 2}\n",
            "Membership 2 in A: True\n"
          ]
        }
      ],
      "source": [
        "my_set = {1, 2, 3}\n",
        "my_set.add(2)       # no effect (already present)\n",
        "my_set.add(4)\n",
        "print(\"Set (unique):\", my_set)\n",
        "\n",
        "# Set operations\n",
        "A, B = {1,2,3,4}, {3,4,5}\n",
        "print(\"Union:\", A | B)\n",
        "print(\"Intersection:\", A & B)\n",
        "print(\"Difference A-B:\", A - B)\n",
        "print(\"Membership 2 in A:\", 2 in A)\n"
      ]
    },
    {
      "cell_type": "markdown",
      "metadata": {},
      "source": [
        "### Dictionaries: key-value mapping\n"
      ]
    },
    {
      "cell_type": "code",
      "execution_count": 7,
      "metadata": {},
      "outputs": [
        {
          "name": "stdout",
          "output_type": "stream",
          "text": [
            "Dict: {'name': 'John', 'age': 30, 'city': 'New York'}\n",
            "Access by key: John\n",
            "Updated dict: {'name': 'John', 'age': 35, 'city': 'New York'}\n",
            "With new key: {'name': 'John', 'age': 35, 'city': 'New York', 'zip': '10001'}\n"
          ]
        }
      ],
      "source": [
        "my_dict = {\"name\": \"John\", \"age\": 30, \"city\": \"New York\"}\n",
        "print(\"Dict:\", my_dict)\n",
        "print(\"Access by key:\", my_dict[\"name\"])\n",
        "\n",
        "# Modify value\n",
        "my_dict[\"age\"] = 35\n",
        "print(\"Updated dict:\", my_dict)\n",
        "\n",
        "# Add new key\n",
        "my_dict[\"zip\"] = \"10001\"\n",
        "print(\"With new key:\", my_dict)\n"
      ]
    },
    {
      "cell_type": "markdown",
      "metadata": {},
      "source": [
        "## 3. Arithmetic and Logical Operators\n"
      ]
    },
    {
      "cell_type": "code",
      "execution_count": 8,
      "metadata": {},
      "outputs": [
        {
          "name": "stdout",
          "output_type": "stream",
          "text": [
            "a+b, a-b, a*b, a/b: 10 4 21 2.3333333333333335\n",
            "a//b, a%b: 2 1\n",
            "a**b: 343\n",
            "a > b: True\n",
            "a == 7 and b < 5: True\n",
            "not (a == b): True\n"
          ]
        }
      ],
      "source": [
        "a, b = 7, 3\n",
        "print(\"a+b, a-b, a*b, a/b:\", a+b, a-b, a*b, a/b)\n",
        "print(\"a//b, a%b:\", a//b, a%b)\n",
        "print(\"a**b:\", a**b)\n",
        "\n",
        "# Comparisons & logicals\n",
        "print(\"a > b:\", a > b)\n",
        "print(\"a == 7 and b < 5:\", (a == 7) and (b < 5))\n",
        "print(\"not (a == b):\", not (a == b))\n"
      ]
    },
    {
      "cell_type": "markdown",
      "metadata": {},
      "source": [
        "## 4. Control Structures: if/elif/else, for, while\n"
      ]
    },
    {
      "cell_type": "code",
      "execution_count": 12,
      "metadata": {},
      "outputs": [
        {
          "name": "stdout",
          "output_type": "stream",
          "text": [
            "Zero\n"
          ]
        }
      ],
      "source": [
        "x = 0\n",
        "if x > 0:\n",
        "    print(\"Positive\")\n",
        "elif x < 0:\n",
        "    print(\"Negative\")  \n",
        "else:\n",
        "    print(\"Zero\")\n"
      ]
    },
    {
      "cell_type": "code",
      "execution_count": 13,
      "metadata": {},
      "outputs": [
        {
          "name": "stdout",
          "output_type": "stream",
          "text": [
            "i = 0\n",
            "i = 1\n",
            "i = 2\n",
            "i = 3\n",
            "i = 4\n"
          ]
        }
      ],
      "source": [
        "# for loop over range\n",
        "for i in range(5):\n",
        "    print(\"i =\", i)\n"
      ]
    },
    {
      "cell_type": "code",
      "execution_count": 14,
      "metadata": {},
      "outputs": [
        {
          "name": "stdout",
          "output_type": "stream",
          "text": [
            "count = 0\n",
            "count = 1\n",
            "count = 2\n",
            "count = 3\n",
            "count = 4\n"
          ]
        }
      ],
      "source": [
        "# while loop (avoid infinite loops!)\n",
        "count = 0\n",
        "while count < 5:\n",
        "    print(\"count =\", count)\n",
        "    count += 1\n"
      ]
    },
    {
      "cell_type": "markdown",
      "metadata": {},
      "source": [
        "## 5. Functions\n"
      ]
    },
    {
      "cell_type": "code",
      "execution_count": 15,
      "metadata": {},
      "outputs": [
        {
          "name": "stdout",
          "output_type": "stream",
          "text": [
            "Hello, John\n",
            "add(1,2) = 3\n"
          ]
        }
      ],
      "source": [
        "def greet(name):\n",
        "    \"\"\"Print a friendly greeting.\"\"\"\n",
        "    print(\"Hello, \" + name)\n",
        "\n",
        "greet(\"John\")\n",
        "\n",
        "def add(a, b):\n",
        "    \"\"\"Return the sum of a and b.\"\"\"\n",
        "    return a + b\n",
        "\n",
        "result = add(1, 2)\n",
        "print(\"add(1,2) =\", result)\n"
      ]
    },
    {
      "cell_type": "markdown",
      "metadata": {},
      "source": [
        "## 6. Classes and Objects\n"
      ]
    },
    {
      "cell_type": "code",
      "execution_count": null,
      "metadata": {},
      "outputs": [
        {
          "name": "stdout",
          "output_type": "stream",
          "text": [
            "Buddy\n",
            "Woof!\n",
            "Buddy fetched the ball!\n"
          ]
        }
      ],
      "source": [
        "class Dog:\n",
        "    def __init__(self, name):\n",
        "        self.name = name\n",
        "\n",
        "    def bark(self):\n",
        "        print(\"Woof!\")\n",
        "    def fetch(self, toy):\n",
        "        print(f\"{self.name} fetched the {toy}!\")\n",
        "\n",
        "\n",
        "\n",
        "my_dog = Dog(\"Buddy\")\n",
        "my_second_dog = Dog(\"Buddy\")\n",
        "print(my_dog.name)\n",
        "my_dog.bark()\n",
        "my_dog.fetch(\"ball\")\n"
      ]
    },
    {
      "cell_type": "markdown",
      "metadata": {},
      "source": [
        "### Inheritance\n"
      ]
    },
    {
      "cell_type": "code",
      "execution_count": 14,
      "metadata": {},
      "outputs": [
        {
          "name": "stdout",
          "output_type": "stream",
          "text": [
            "Goldie goes to fetch ball\n",
            "Woof!\n"
          ]
        }
      ],
      "source": [
        "class Retriever(Dog):\n",
        "    def fetch(self, thing):\n",
        "        return f\"{self.name} goes to fetch {thing}\"\n",
        "\n",
        "my_retriever = Retriever(\"Goldie\")\n",
        "print(my_retriever.fetch(\"ball\"))\n",
        "my_retriever.bark()\n"
      ]
    },
    {
      "cell_type": "markdown",
      "metadata": {},
      "source": [
        "### Encapsulation (name-mangling demonstration)\n"
      ]
    },
    {
      "cell_type": "code",
      "execution_count": 15,
      "metadata": {},
      "outputs": [
        {
          "name": "stdout",
          "output_type": "stream",
          "text": [
            "Getter returns: Mittens\n",
            "Cannot access c.__name directly: 'Cat' object has no attribute '__name'\n",
            "Mangled access (for demo): Mittens\n"
          ]
        }
      ],
      "source": [
        "class Cat:\n",
        "    def __init__(self, name):\n",
        "        self.__name = name  # \"private\" by name-mangling\n",
        "    def get_name(self):\n",
        "        return self.__name\n",
        "\n",
        "c = Cat(\"Mittens\")\n",
        "print(\"Getter returns:\", c.get_name())\n",
        "# Direct access fails with AttributeError (mangled to _Cat__name):\n",
        "try:\n",
        "    print(c.__name)\n",
        "except AttributeError as e:\n",
        "    print(\"Cannot access c.__name directly:\", e)\n",
        "# But you can (not recommended) access via the mangled attribute:\n",
        "print(\"Mangled access (for demo):\", c._Cat__name)\n"
      ]
    },
    {
      "cell_type": "markdown",
      "metadata": {},
      "source": [
        "## 7. Modules and Packages\n"
      ]
    },
    {
      "cell_type": "code",
      "execution_count": 16,
      "metadata": {},
      "outputs": [
        {
          "name": "stdout",
          "output_type": "stream",
          "text": [
            "math.sqrt(4) = 2.0\n"
          ]
        }
      ],
      "source": [
        "import math\n",
        "print(\"math.sqrt(4) =\", math.sqrt(4))\n"
      ]
    },
    {
      "cell_type": "code",
      "execution_count": 17,
      "metadata": {},
      "outputs": [
        {
          "name": "stdout",
          "output_type": "stream",
          "text": [
            "my_module.custom_function(5) = 25\n"
          ]
        }
      ],
      "source": [
        "# Creating a simple module on the fly, then importing it.\n",
        "\n",
        "# Write a module file\n",
        "code_text = \"\"\"\n",
        "def custom_function(x):\n",
        "    return x * x\n",
        "\"\"\"\n",
        "\n",
        "with open(\"my_module.py\", \"w\") as f:\n",
        "    f.write(code_text)\n",
        "\n",
        "import importlib\n",
        "import my_module\n",
        "print(\"my_module.custom_function(5) =\", my_module.custom_function(5))\n"
      ]
    },
    {
      "cell_type": "markdown",
      "metadata": {},
      "source": [
        "## 8. Tensors, Lists, and Arrays\n",
        "\n",
        "- **Lists** are flexible containers (can mix types), great for general Python usage.\n",
        "- **NumPy arrays** are homogeneous, fast for numerical computing; vectorized operations, broadcasting.\n",
        "- **PyTorch tensors** (optional) are like NumPy arrays with GPU acceleration and automatic differentiation.\n"
      ]
    },
    {
      "cell_type": "code",
      "execution_count": 18,
      "metadata": {},
      "outputs": [
        {
          "name": "stdout",
          "output_type": "stream",
          "text": [
            "NumPy version: 2.1.3\n",
            "a: [1. 2. 3.] shape: (3,) dtype: float64\n",
            "b:\n",
            " [[1. 2.]\n",
            " [3. 4.]] shape: (2, 2)\n",
            "Vectorized ops: 2*a = [2. 4. 6.]   a+a = [2. 4. 6.]\n",
            "Matrix-vector b @ a[:2] = [ 5. 11.]\n"
          ]
        }
      ],
      "source": [
        "# We'll try NumPy; if unavailable, the code will warn and skip.\n",
        "try:\n",
        "    import numpy as np\n",
        "    print(\"NumPy version:\", np.__version__)\n",
        "    a = np.array([1,2,3], dtype=float)\n",
        "    b = np.array([[1,2],[3,4]], dtype=float)\n",
        "    print(\"a:\", a, \"shape:\", a.shape, \"dtype:\", a.dtype)\n",
        "    print(\"b:\\n\", b, \"shape:\", b.shape)\n",
        "    print(\"Vectorized ops: 2*a =\", 2*a, \"  a+a =\", a+a)\n",
        "    print(\"Matrix-vector b @ a[:2] =\", b @ a[:2])\n",
        "except Exception as e:\n",
        "    print(\"NumPy is not available. Skipping NumPy demos.\", e)\n"
      ]
    },
    {
      "cell_type": "code",
      "execution_count": 19,
      "metadata": {},
      "outputs": [
        {
          "name": "stdout",
          "output_type": "stream",
          "text": [
            "PyTorch not available; skipping tensor demos. No module named 'torch'\n"
          ]
        }
      ],
      "source": [
        "# Optional: PyTorch, if installed. This cell will skip gracefully if not present.\n",
        "try:\n",
        "    import torch\n",
        "    print(\"PyTorch version:\", torch.__version__)\n",
        "    t = torch.tensor([[1.0, 2.0],[3.0, 4.0]])\n",
        "    print(\"Tensor t:\\n\", t)\n",
        "    print(\"t + t:\\n\", t + t)\n",
        "    print(\"t @ t:\\n\", t @ t)\n",
        "    # Conversion from list and (if NumPy is present) from ndarray\n",
        "    from_list = torch.tensor([1,2,3])\n",
        "    print(\"from_list:\", from_list)\n",
        "    try:\n",
        "        import numpy as np\n",
        "        arr = np.array([10,20,30], dtype=np.float32)\n",
        "        from_np = torch.from_numpy(arr)\n",
        "        print(\"from_numpy:\", from_np, \"  shares memory:\", from_np.data_ptr() != 0)\n",
        "    except Exception:\n",
        "        pass\n",
        "except Exception as e:\n",
        "    print(\"PyTorch not available; skipping tensor demos.\", e)\n"
      ]
    },
    {
      "cell_type": "markdown",
      "metadata": {},
      "source": [
        "## 9. Efficient Evaluation of Expressions — Horner's Method\n",
        "\n",
        "We evaluate a polynomial \\(P_n(x) = \\sum_{k=0}^n a_k x^k\\) via three approaches:\n",
        "1. **Naive**: compute each power separately\n",
        "2. **Better**: reuse powers incrementally\n",
        "3. **Horner**: nested form that needs only one multiply and add per coefficient\n"
      ]
    },
    {
      "cell_type": "code",
      "execution_count": 22,
      "metadata": {},
      "outputs": [
        {
          "name": "stdout",
          "output_type": "stream",
          "text": [
            "poly_naive: value=0.713171, time=1.6242e-04s\n",
            "poly_reuse: value=0.713171, time=1.1600e-04s\n",
            "poly_horner: value=0.713171, time=5.3833e-05s\n"
          ]
        }
      ],
      "source": [
        "import time\n",
        "\n",
        "def poly_naive(a, x):\n",
        "    # a: coefficients a_0..a_n\n",
        "    s = 0.0\n",
        "    for k, ak in enumerate(a):\n",
        "        s += ak * (x ** k)\n",
        "    return s\n",
        "\n",
        "def poly_reuse(a, x):\n",
        "    s = 0.0\n",
        "    t = 1.0  # x^0\n",
        "    for k, ak in enumerate(a):\n",
        "        s += ak * t\n",
        "        t *= x  # now t = x^(k+1)\n",
        "    return s\n",
        "\n",
        "def poly_horner(a, x):\n",
        "    # a: [a0, a1, ..., an]\n",
        "    y = 0.0\n",
        "    for ak in reversed(a):\n",
        "        y = ak + x * y\n",
        "    return y\n",
        "\n",
        "# Demo and timing\n",
        "a = [(-1)**k / (k+1) for k in range(2000)]  # 2000-term alternating series\n",
        "x = 0.9\n",
        "\n",
        "for f in [poly_naive, poly_reuse, poly_horner]:\n",
        "    t0 = time.perf_counter()\n",
        "    val = f(a, x)\n",
        "    t1 = time.perf_counter()\n",
        "    print(f\"{f.__name__}: value={val:.6f}, time={t1-t0:.4e}s\")\n"
      ]
    },
    {
      "cell_type": "markdown",
      "metadata": {},
      "source": [
        "**Why Horner helps**  \n",
        "- No explicit powers: minimizes multiplications to \\(n\\) (the theoretical minimum).  \n",
        "- Fewer operations = fewer rounding steps and better cache locality.  \n",
        "- Many runtimes use fused multiply–add for \\(a_k + x\\cdot y\\), improving speed and accuracy.\n"
      ]
    },
    {
      "cell_type": "markdown",
      "metadata": {},
      "source": [
        "## 10. Direct vs. Iterative Methods on the Same System\n",
        "\n",
        "We solve the linear system\n",
        "$$\n",
        "A x = b,\\qquad\n",
        "A=\\begin{bmatrix}4 & 1; \\ 1 & 3\\end{bmatrix},\\quad\n",
        "b=\\begin{bmatrix}1 \\ 2\\end{bmatrix}.\n",
        "$$\n"
      ]
    },
    {
      "cell_type": "code",
      "execution_count": 21,
      "metadata": {},
      "outputs": [
        {
          "name": "stdout",
          "output_type": "stream",
          "text": [
            "Direct (NumPy): [0.09090909 0.63636364]\n",
            "\n",
            "Jacobi iterations:\n",
            "iter  1: x=[0.25, 0.6666666666666666], residual=7.120e-01\n",
            "iter  2: x=[0.08333333333333334, 0.5833333333333334], residual=1.863e-01\n",
            "iter  3: x=[0.10416666666666666, 0.638888888888889], residual=5.933e-02\n",
            "iter  4: x=[0.09027777777777776, 0.6319444444444444], residual=1.553e-02\n",
            "iter  5: x=[0.0920138888888889, 0.6365740740740741], residual=4.944e-03\n",
            "iter  6: x=[0.09085648148148148, 0.6359953703703703], residual=1.294e-03\n",
            "\n",
            "Comparison:\n",
            "Direct solution: [0.09090909 0.63636364]\n",
            "Jacobi (6 iters): [0.09085648148148148, 0.6359953703703703]\n"
          ]
        }
      ],
      "source": [
        "# We'll prefer NumPy if available; otherwise do a tiny manual 2x2 solve.\n",
        "def solve_2x2(A, b):\n",
        "    # A = [[a,b],[c,d]]\n",
        "    (a,b_), (c,d) = A\n",
        "    det = a*d - b_*c\n",
        "    if det == 0:\n",
        "        raise ValueError(\"Singular 2x2 matrix\")\n",
        "    x0 = ( d*b[0] - b_*b[1]) / det\n",
        "    x1 = (-c*b[0] + a *b[1]) / det\n",
        "    return [x0, x1]\n",
        "\n",
        "A = [[4.0, 1.0],[1.0, 3.0]]\n",
        "b = [1.0, 2.0]\n",
        "\n",
        "try:\n",
        "    import numpy as np\n",
        "    A_np = np.array(A, dtype=float)\n",
        "    b_np = np.array(b, dtype=float)\n",
        "    x_direct = np.linalg.solve(A_np, b_np)\n",
        "    print(\"Direct (NumPy):\", x_direct)\n",
        "except Exception:\n",
        "    x_direct = solve_2x2(A, b)\n",
        "    print(\"Direct (manual 2x2):\", x_direct)\n",
        "\n",
        "# Jacobi iterations\n",
        "def jacobi(A, b, x0=None, iters=10):\n",
        "    n = len(b)\n",
        "    x = [0.0]*n if x0 is None else list(x0)\n",
        "    for k in range(iters):\n",
        "        x_new = x.copy()\n",
        "        for i in range(n):\n",
        "            s = 0.0\n",
        "            for j in range(n):\n",
        "                if j != i:\n",
        "                    s += A[i][j]*x[j]\n",
        "            x_new[i] = (b[i] - s) / A[i][i]\n",
        "        x = x_new\n",
        "        # residual norm\n",
        "        r0 = b[0] - (A[0][0]*x[0] + A[0][1]*x[1])\n",
        "        r1 = b[1] - (A[1][0]*x[0] + A[1][1]*x[1])\n",
        "        res = (r0**2 + r1**2)**0.5\n",
        "        print(f\"iter {k+1:2d}: x={x}, residual={res:.3e}\")\n",
        "    return x\n",
        "\n",
        "print(\"\\nJacobi iterations:\")\n",
        "x_jacobi = jacobi(A, b, x0=[0.0,0.0], iters=6)\n",
        "\n",
        "print(\"\\nComparison:\")\n",
        "print(\"Direct solution:\", x_direct)\n",
        "print(\"Jacobi (6 iters):\", x_jacobi)\n"
      ]
    },
    {
      "cell_type": "code",
      "execution_count": null,
      "id": "33d05549",
      "metadata": {},
      "outputs": [],
      "source": []
    },
    {
      "cell_type": "code",
      "execution_count": null,
      "id": "e5c1f42a",
      "metadata": {},
      "outputs": [],
      "source": []
    },
    {
      "cell_type": "code",
      "execution_count": null,
      "id": "0a2fc670",
      "metadata": {},
      "outputs": [],
      "source": []
    }
  ],
  "metadata": {
    "kernelspec": {
      "display_name": "base",
      "language": "python",
      "name": "python3"
    },
    "language_info": {
      "codemirror_mode": {
        "name": "ipython",
        "version": 3
      },
      "file_extension": ".py",
      "mimetype": "text/x-python",
      "name": "python",
      "nbconvert_exporter": "python",
      "pygments_lexer": "ipython3",
      "version": "3.12.2"
    }
  },
  "nbformat": 4,
  "nbformat_minor": 5
}
